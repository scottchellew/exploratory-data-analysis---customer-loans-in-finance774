{
 "cells": [
  {
   "cell_type": "code",
   "execution_count": 258,
   "metadata": {},
   "outputs": [],
   "source": [
    "import pandas as pd\n",
    "import numpy as np\n",
    "import matplotlib.pyplot as plt\n",
    "import seaborn as sns\n",
    "from datetime import datetime\n",
    "dataframe = pd.read_csv('new_loan_payments.csv')"
   ]
  },
  {
   "cell_type": "markdown",
   "metadata": {},
   "source": [
    "Task 1"
   ]
  },
  {
   "cell_type": "code",
   "execution_count": 259,
   "metadata": {},
   "outputs": [
    {
     "name": "stdout",
     "output_type": "stream",
     "text": [
      "90.59581141501307\n"
     ]
    }
   ],
   "source": [
    "#Calculates the total percentage paid towards the loans.\n",
    "Total_Paid = dataframe['total_payment'].sum() / dataframe['loan_amount'].sum() * 100\n",
    "print(Total_Paid)"
   ]
  },
  {
   "cell_type": "code",
   "execution_count": 260,
   "metadata": {},
   "outputs": [],
   "source": [
    "dataframe['last_payment_date'] = pd.to_datetime(dataframe['last_payment_date'], format=\"%b-%Y\")\n",
    "dataframe['issue_date'] = pd.to_datetime(dataframe['issue_date'], format= \"%b-%Y\")"
   ]
  },
  {
   "cell_type": "code",
   "execution_count": 261,
   "metadata": {},
   "outputs": [],
   "source": [
    "dataframe['months_left'] = (dataframe['last_payment_date'] - dataframe['issue_date']) /pd.Timedelta(days=30)"
   ]
  },
  {
   "cell_type": "code",
   "execution_count": 262,
   "metadata": {},
   "outputs": [],
   "source": [
    "dataframe.loc[dataframe['months_left'] >= 6, 'six_months'] = 6 * dataframe['instalment']\n",
    "dataframe.loc[dataframe['months_left'] < 6, 'six_months'] = dataframe['months_left'] * dataframe['instalment']\n"
   ]
  },
  {
   "cell_type": "code",
   "execution_count": 263,
   "metadata": {},
   "outputs": [
    {
     "name": "stdout",
     "output_type": "stream",
     "text": [
      "127096789.96966667\n"
     ]
    }
   ],
   "source": [
    "#Sum of all instalments in six months time.\n",
    "sum_six_months = dataframe['six_months'].sum()\n",
    "print(sum_six_months)"
   ]
  },
  {
   "cell_type": "markdown",
   "metadata": {},
   "source": [
    "Task 2"
   ]
  },
  {
   "cell_type": "code",
   "execution_count": 264,
   "metadata": {},
   "outputs": [
    {
     "name": "stdout",
     "output_type": "stream",
     "text": [
      "loan_status\n",
      "Fully Paid                                             49.855249\n",
      "Current                                                35.529494\n",
      "Charged Off                                            10.272722\n",
      "Does not meet the credit policy. Status:Fully Paid      1.814460\n",
      "Late (31-120 days)                                      1.069499\n",
      "Does not meet the credit policy. Status:Charged Off     0.678579\n",
      "In Grace Period                                         0.488650\n",
      "Late (16-30 days)                                       0.195460\n",
      "Default                                                 0.095886\n",
      "Name: count, dtype: float64\n"
     ]
    }
   ],
   "source": [
    "#Percentage of charged off loans - 10.3%\n",
    "Frequency_Status = (dataframe['loan_status'].value_counts()/len(dataframe)*100)\n",
    "print(Frequency_Status)"
   ]
  },
  {
   "cell_type": "code",
   "execution_count": 265,
   "metadata": {},
   "outputs": [
    {
     "data": {
      "text/plain": [
       "37400589.0"
      ]
     },
     "execution_count": 265,
     "metadata": {},
     "output_type": "execute_result"
    }
   ],
   "source": [
    "#Total amount paid on charged off loans\n",
    "Total_Paid = dataframe.loc[dataframe['loan_status'] == 'Charged Off', 'total_payment'].sum()\n",
    "round(Total_Paid, 1)"
   ]
  },
  {
   "cell_type": "markdown",
   "metadata": {},
   "source": [
    "Task 3"
   ]
  },
  {
   "cell_type": "code",
   "execution_count": 266,
   "metadata": {},
   "outputs": [],
   "source": [
    "dataframe['remainder'] = dataframe['loan_amount'] * dataframe['int_rate'] - dataframe['total_payment']"
   ]
  },
  {
   "cell_type": "code",
   "execution_count": 267,
   "metadata": {},
   "outputs": [
    {
     "data": {
      "text/plain": [
       "1086059403.2"
      ]
     },
     "execution_count": 267,
     "metadata": {},
     "output_type": "execute_result"
    }
   ],
   "source": [
    "Remainder_Unpaid = dataframe.loc[dataframe['loan_status'] == 'Charged Off', 'remainder'].sum()\n",
    "round(Remainder_Unpaid, 1)"
   ]
  },
  {
   "cell_type": "markdown",
   "metadata": {},
   "source": [
    "Task 4"
   ]
  },
  {
   "cell_type": "code",
   "execution_count": 268,
   "metadata": {},
   "outputs": [
    {
     "name": "stdout",
     "output_type": "stream",
     "text": [
      "loan_status\n",
      "Fully Paid                                             49.855249\n",
      "Current                                                35.529494\n",
      "Charged Off                                            10.272722\n",
      "Does not meet the credit policy. Status:Fully Paid      1.814460\n",
      "Late (31-120 days)                                      1.069499\n",
      "Does not meet the credit policy. Status:Charged Off     0.678579\n",
      "In Grace Period                                         0.488650\n",
      "Late (16-30 days)                                       0.195460\n",
      "Default                                                 0.095886\n",
      "Name: count, dtype: float64\n"
     ]
    }
   ],
   "source": [
    "Frequency_Status = (dataframe['loan_status'].value_counts()/len(dataframe)*100)\n",
    "print(Frequency_Status)"
   ]
  },
  {
   "cell_type": "code",
   "execution_count": 269,
   "metadata": {},
   "outputs": [
    {
     "data": {
      "text/plain": [
       "1.26"
      ]
     },
     "execution_count": 269,
     "metadata": {},
     "output_type": "execute_result"
    }
   ],
   "source": [
    "#Calculates the percentage of late customers as part of the whole dataset.\n",
    "late_dataframe = dataframe['loan_status'].isin(['Late (16-30 days)','Late (31-120 days)'])\n",
    "total_rows = len(dataframe)\n",
    "late_rows = len(dataframe[late_dataframe])\n",
    "percentage_late = late_rows / total_rows * 100\n",
    "round(percentage_late, 2)"
   ]
  },
  {
   "cell_type": "code",
   "execution_count": 270,
   "metadata": {},
   "outputs": [
    {
     "data": {
      "text/plain": [
       "127406624.1"
      ]
     },
     "execution_count": 270,
     "metadata": {},
     "output_type": "execute_result"
    }
   ],
   "source": [
    "Late_31_Remainder_Unpaid = dataframe.loc[dataframe['loan_status'] ==  'Late (31-120 days)', 'remainder'].sum()\n",
    "round(Late_31_Remainder_Unpaid, 1)"
   ]
  },
  {
   "cell_type": "code",
   "execution_count": 271,
   "metadata": {},
   "outputs": [
    {
     "data": {
      "text/plain": [
       "22724947.1"
      ]
     },
     "execution_count": 271,
     "metadata": {},
     "output_type": "execute_result"
    }
   ],
   "source": [
    "Late_16_Remainder_Unpaid = dataframe.loc[dataframe['loan_status'] ==  'Late (16-30 days)', 'remainder'].sum()\n",
    "round(Late_16_Remainder_Unpaid, 1)"
   ]
  },
  {
   "cell_type": "code",
   "execution_count": 272,
   "metadata": {},
   "outputs": [
    {
     "data": {
      "text/plain": [
       "1236190974.5"
      ]
     },
     "execution_count": 272,
     "metadata": {},
     "output_type": "execute_result"
    }
   ],
   "source": [
    "#Total amount of loss to the company if all late customers and charged off customers do not pay their loans.\n",
    "Total_Unpaid = Remainder_Unpaid + Late_31_Remainder_Unpaid + Late_16_Remainder_Unpaid\n",
    "round(Total_Unpaid, 1)"
   ]
  },
  {
   "cell_type": "code",
   "execution_count": 273,
   "metadata": {},
   "outputs": [
    {
     "name": "stdout",
     "output_type": "stream",
     "text": [
      "479172653691077.56\n"
     ]
    }
   ],
   "source": [
    "Total_Revenue = dataframe['loan_amount'].sum() * dataframe['int_rate'].sum() - dataframe['loan_amount'].sum()\n",
    "print(Total_Revenue)\n"
   ]
  },
  {
   "cell_type": "code",
   "execution_count": 274,
   "metadata": {},
   "outputs": [
    {
     "name": "stdout",
     "output_type": "stream",
     "text": [
      "0.0002579844582003531\n"
     ]
    }
   ],
   "source": [
    "#Percentage of cost of unpaid loans make up the total amount of loans\n",
    "Percentage_Loss = Total_Unpaid / Total_Revenue * 100\n",
    "print(Percentage_Loss)"
   ]
  },
  {
   "cell_type": "markdown",
   "metadata": {},
   "source": [
    "Task 5"
   ]
  },
  {
   "cell_type": "code",
   "execution_count": 275,
   "metadata": {},
   "outputs": [],
   "source": [
    "def new_status(dataframe):\n",
    "    if dataframe['loan_status'] == 'Charged Off': return 'Charged Off'\n",
    "    elif dataframe['loan_status'] == 'Late (16-30 days)': return 'Late'\n",
    "    elif dataframe['loan_status'] == 'Late (31-120 days)': return 'Late'\n",
    "    else: return 'Not Late'\n",
    "\n",
    "dataframe['new_loan_status'] = dataframe.apply(new_status, axis=1)"
   ]
  },
  {
   "cell_type": "code",
   "execution_count": 276,
   "metadata": {},
   "outputs": [
    {
     "name": "stdout",
     "output_type": "stream",
     "text": [
      "grade  new_loan_status\n",
      "A      Charged Off          425\n",
      "       Late                  27\n",
      "       Not Late            9366\n",
      "B      Charged Off         1294\n",
      "       Late                 173\n",
      "       Not Late           14902\n",
      "C      Charged Off         1490\n",
      "       Late                 186\n",
      "       Not Late           11924\n",
      "D      Charged Off         1184\n",
      "       Late                 160\n",
      "       Not Late            6813\n",
      "E      Charged Off          709\n",
      "       Late                  94\n",
      "       Not Late            3269\n",
      "F      Charged Off          362\n",
      "       Late                  32\n",
      "       Not Late            1300\n",
      "G      Charged Off          107\n",
      "       Late                  14\n",
      "       Not Late             400\n",
      "dtype: int64\n"
     ]
    }
   ],
   "source": [
    "count_grade = dataframe.groupby(['grade', 'new_loan_status']).size()\n",
    "print(count_grade)"
   ]
  },
  {
   "cell_type": "code",
   "execution_count": 277,
   "metadata": {},
   "outputs": [
    {
     "name": "stdout",
     "output_type": "stream",
     "text": [
      "purpose             new_loan_status\n",
      "car                 Charged Off           90\n",
      "                    Late                   5\n",
      "                    Not Late             927\n",
      "credit_card         Charged Off          879\n",
      "                    Late                 140\n",
      "                    Not Late           10114\n",
      "debt_consolidation  Charged Off         3073\n",
      "                    Late                 431\n",
      "                    Not Late           26089\n",
      "educational         Charged Off           28\n",
      "                    Not Late             173\n",
      "home_improvement    Charged Off          271\n",
      "                    Late                  36\n",
      "                    Not Late            2908\n",
      "house               Charged Off           41\n",
      "                    Late                   2\n",
      "                    Not Late             311\n",
      "major_purchase      Charged Off          169\n",
      "                    Late                   7\n",
      "                    Not Late            1503\n",
      "medical             Charged Off           81\n",
      "                    Late                   5\n",
      "                    Not Late             545\n",
      "moving              Charged Off           63\n",
      "                    Late                   5\n",
      "                    Not Late             388\n",
      "other               Charged Off          481\n",
      "                    Late                  41\n",
      "                    Not Late            3175\n",
      "renewable_energy    Charged Off           12\n",
      "                    Not Late              67\n",
      "small_business      Charged Off          303\n",
      "                    Late                  10\n",
      "                    Not Late             999\n",
      "vacation            Charged Off           36\n",
      "                    Late                   3\n",
      "                    Not Late             281\n",
      "wedding             Charged Off           44\n",
      "                    Late                   1\n",
      "                    Not Late             494\n",
      "dtype: int64\n"
     ]
    }
   ],
   "source": [
    "count_purpose = dataframe.groupby(['purpose', 'new_loan_status']).size()\n",
    "print(count_purpose)"
   ]
  },
  {
   "cell_type": "code",
   "execution_count": 278,
   "metadata": {},
   "outputs": [
    {
     "name": "stdout",
     "output_type": "stream",
     "text": [
      "home_ownership  new_loan_status\n",
      "MORTGAGE        Charged Off         2438\n",
      "                Late                 307\n",
      "                Not Late           24178\n",
      "NONE            Not Late               2\n",
      "OTHER           Charged Off            9\n",
      "                Not Late              54\n",
      "OWN             Charged Off          516\n",
      "                Late                  70\n",
      "                Not Late            4164\n",
      "RENT            Charged Off         2608\n",
      "                Late                 309\n",
      "                Not Late           19576\n",
      "dtype: int64\n"
     ]
    }
   ],
   "source": [
    "count_home = dataframe.groupby(['home_ownership', 'new_loan_status']).size()\n",
    "print(count_home)"
   ]
  },
  {
   "cell_type": "markdown",
   "metadata": {},
   "source": [
    "The above three tables show the frequency of loan status when sub divided by another category.\n",
    "\n",
    "The grade in which the customer is given seems to have an effect on the ratio of late to not late customers\n",
    "Only 27 out of almost 10,000 A grade customers are late in their repayments, compared to 14 out of roughly 500 G grade customers.\n",
    "\n",
    "There are lots of different reasons as to why people take out loans. The most frequent late payment categories are for debt consolidation and credit cards.\n",
    "Potentially these people are already in a difficult financial situation and are finding it had to make new payments.\n",
    "On the other hand no customers in the educational category are currently late in making their payments.\n",
    "\n",
    "While there are similar numbers of people who are late on their loan payments who are renting and have a mortgage, there are fewer people in the rental category.\n",
    "This means that there is a higher ratio of people who are renting who are late in their payments.\n",
    "\n",
    "These findings may have implications as to who the loan company would want to loan to, and what types of loans are the most safe and profitable to fund."
   ]
  }
 ],
 "metadata": {
  "kernelspec": {
   "display_name": "EDA",
   "language": "python",
   "name": "python3"
  },
  "language_info": {
   "codemirror_mode": {
    "name": "ipython",
    "version": 3
   },
   "file_extension": ".py",
   "mimetype": "text/x-python",
   "name": "python",
   "nbconvert_exporter": "python",
   "pygments_lexer": "ipython3",
   "version": "3.11.5"
  }
 },
 "nbformat": 4,
 "nbformat_minor": 2
}
